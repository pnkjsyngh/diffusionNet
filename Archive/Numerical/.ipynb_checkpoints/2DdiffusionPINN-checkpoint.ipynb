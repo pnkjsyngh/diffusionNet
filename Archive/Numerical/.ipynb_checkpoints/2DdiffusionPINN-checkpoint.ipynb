{
 "cells": [
  {
   "cell_type": "code",
   "execution_count": 4,
   "metadata": {
    "executionInfo": {
     "elapsed": 389,
     "status": "ok",
     "timestamp": 1693348560823,
     "user": {
      "displayName": "Pankaj Singh",
      "userId": "05536526513239216529"
     },
     "user_tz": 240
    },
    "id": "z9sUJwEKjZ2d"
   },
   "outputs": [],
   "source": [
    "## Import the packages ##\n",
    "import os\n",
    "import numpy as np\n",
    "import importlib\n",
    "import matplotlib.pyplot as plt\n",
    "import torch\n",
    "\n",
    "# ## Make sure change this on your end ##\n",
    "# os.chdir('/content/drive/MyDrive/Colab Notebooks/PINNs/Poisson')\n",
    "# ## --------------------------------- ##\n",
    "\n",
    "# from utils.NumPDE import NumPDE, PDE, CartesianGrid, ScalarField\n",
    "\n",
    "# CUDA support \n",
    "if torch.cuda.is_available():\n",
    "    device = torch.device('cuda')\n",
    "else:\n",
    "    device = torch.device('cpu')"
   ]
  },
  {
   "cell_type": "code",
   "execution_count": 2,
   "metadata": {},
   "outputs": [
    {
     "data": {
      "image/png": "[encoded data removed]",
      "text/plain": [
       "<Figure size 640x480 with 2 Axes>"
      ]
     },
     "metadata": {},
     "output_type": "display_data"
    }
   ],
   "source": [
    "## total time\n",
    "trange, l = 10, 1\n",
    "\n",
    "## discretizations\n",
    "nx, nt = 16, 10       \n",
    "        \n",
    "## initialize the grid, an initial condition, and the PDE\n",
    "grid = CartesianGrid([[0, l]], nx)  # generate grid\n",
    "field = ScalarField(grid, 0)  # generate initial condition\n",
    "\n",
    "## Expanded definition of the PDE\n",
    "diffusivity = 0.1\n",
    "rhs = f\"(({diffusivity}) * laplace(c))\"#\" + cos(t)\"\n",
    "bc = [[{'derivative':0}, {'value_expression':'sin(t)'}]]\n",
    "eq = PDE({\"c\": f\"{rhs}\"}, bc=bc)\n",
    "\n",
    "## Obtain the numerical solution \n",
    "numSol = NumPDE(eq, grid, field, 'Explicit', trange, trange/nt)"
   ]
  },
  {
   "cell_type": "code",
   "execution_count": 47,
   "metadata": {},
   "outputs": [
    {
     "name": "stdout",
     "output_type": "stream",
     "text": [
      "(98, 2)\n"
     ]
    }
   ],
   "source": [
    "class DataPreprocessor():\n",
    "    \n",
    "    def __init__(self, sol: dict, \n",
    "                 split: float, \n",
    "                 frac: float):\n",
    "        \n",
    "        ## Split the dataset into test and train\n",
    "        self.test_train_split(sol, split)\n",
    "        \n",
    "        ## Randomly pick data points out of the test and train datasets\n",
    "        self.create_dataset('train')\n",
    "    \n",
    "    ## Function to create dataset out of provided grid and function values\n",
    "    def create_dataset(self, which):\n",
    "        \n",
    "        if which == 'train':\n",
    "            data = self.rawdata['train']\n",
    "        \n",
    "        ## Exctract the data\n",
    "        t = data['t'].flatten()[:,None]\n",
    "        x = data['x'].flatten()[:,None]\n",
    "        u = np.real(data['u'])\n",
    "        \n",
    "        ## Create grid \n",
    "        X, T = np.meshgrid(x,t)\n",
    "        \n",
    "        ## Compile the flattened grid and function values \n",
    "        inp = np.hstack((X.flatten()[:,None], T.flatten()[:,None]))\n",
    "        out = u.flatten()[:,None]  \n",
    "                \n",
    "        ## Collect datapoints on the boundaries\n",
    "            ## initial condition\n",
    "        inp_ic = np.hstack((X[:1,:].T, T[:1,:].T))\n",
    "        out_ic = u[:1,:].T\n",
    "            ## boundary condition on left side of the domain\n",
    "        inp_bcl = np.hstack((X[:,:1], T[:,:1]))\n",
    "        out_bcl = u[:,:1]   \n",
    "            ## boundary condition on right side of the domain\n",
    "        inp_bcr = np.hstack((X[:,-1:], T[:,-1:]))\n",
    "        out_bcr = u[:,-1:] \n",
    "            ## Append all the boundary data with the function value\n",
    "        inp_bdr = np.vstack([inp_ic, inp_bcl, inp_bcr])\n",
    "        out_bdr = np.vstack([out_ic, out_bcl, out_bcr])\n",
    "        \n",
    "        \n",
    "        ## Collect datapoint in the domain\n",
    "        inp_dom = np.hstack((X[1:,1:-1].flatten()[:, None], T[1:,1:-1].flatten()[:, None]))\n",
    "        print(inp_dom.shape)\n",
    "\n",
    "        \n",
    "\n",
    "    ## Function to split the incoming dataset into test and train based on time\n",
    "    def test_train_split(self, sol, split):\n",
    "        \n",
    "        ## Define the index to split the dataset\n",
    "        idx_split = int(sol['t'].shape[0]*split)\n",
    "        \n",
    "        ## store the test and train splits into dictionaries\n",
    "        test = {}\n",
    "        train = {}\n",
    "        \n",
    "        ## store time in test and train\n",
    "        train['t'] = sol['t'][:idx_split]\n",
    "        test['t'] = sol['t'][idx_split:]\n",
    "        \n",
    "        ## store time in test and train\n",
    "        train['x'] = sol['x']\n",
    "        test['x'] = sol['x']\n",
    "        \n",
    "        ## store solution in test and train\n",
    "        train['u'] = sol['u'][:idx_split,:]\n",
    "        test['u'] = sol['u'][idx_split:,:]\n",
    "        \n",
    "        ## Store the final splits into dictionary\n",
    "        self.rawdata = {'train': train,\n",
    "                        'test' : test}\n",
    "            \n",
    "    \n",
    "## Specify the test train split\n",
    "split = 0.8\n",
    "## Specify how much of available training data will be randomly picked\n",
    "frac = 1\n",
    "\n",
    "_ = DataPreprocessor(numSol.ground_truth, split, frac)\n"
   ]
  },
  {
   "cell_type": "code",
   "execution_count": null,
   "metadata": {},
   "outputs": [],
   "source": [
    "def plot_result(ytrue, ypred):\n",
    "    \n",
    "    \n",
    "    fig, axes = plt.subplots(nrows=1, ncols=2, figsize=(10,4))\n",
    "    ax = axes.ravel()\n",
    "#     difference = ytrue.reshape(nt+1,nx) - ypred.reshape(nt+1,nx)\n",
    "\n",
    "    ## Contour plot of difference ##\n",
    "#     im = ax.imshow(difference, origin='lower', aspect='auto',\n",
    "#                    interpolation='bilinear', vmax=difference.max(), \n",
    "#                    vmin=difference.min(), extent=[0, l, 0, trange])\n",
    "    im = ax[0].imshow(ytrue.reshape(nt+1,nx), origin='lower', aspect='auto',\n",
    "                   interpolation='bilinear', vmax=ytrue.reshape(nt+1,nx).max(), \n",
    "                   vmin=ytrue.reshape(nt+1,nx).min(), extent=[0, l, 0, trange])\n",
    "    fig.colorbar(im, ax=ax[0], location='right')\n",
    "    \n",
    "    im = ax[1].imshow(ypred.reshape(nt+1,nx), origin='lower', aspect='auto',\n",
    "                   interpolation='bilinear', vmax=ytrue.reshape(nt+1,nx).max(), \n",
    "                   vmin=ytrue.reshape(nt+1,nx).min(), extent=[0, l, 0, trange])\n",
    "    fig.colorbar(im, ax=ax[1], location='right')\n",
    "    \n",
    "    plt.suptitle(\"Training step: %i\"%(i+1),fontsize=\"xx-large\",color=\"k\")"
   ]
  },
  {
   "cell_type": "code",
   "execution_count": null,
   "metadata": {},
   "outputs": [],
   "source": []
  }
 ],
 "metadata": {
  "colab": {
   "authorship_tag": "ABX9TyNzsraF0WCfstrakPMna3ta",
   "mount_file_id": "1sFL5LzKWMH32Lw3ZY0PaYxiLCHIbbU-t",
   "provenance": []
  },
  "kernelspec": {
   "display_name": "Python 3 (ipykernel)",
   "language": "python",
   "name": "python3"
  },
  "language_info": {
   "codemirror_mode": {
    "name": "ipython",
    "version": 3
   },
   "file_extension": ".py",
   "mimetype": "text/x-python",
   "name": "python",
   "nbconvert_exporter": "python",
   "pygments_lexer": "ipython3",
   "version": "3.10.12"
  }
 },
 "nbformat": 4,
 "nbformat_minor": 1
}
