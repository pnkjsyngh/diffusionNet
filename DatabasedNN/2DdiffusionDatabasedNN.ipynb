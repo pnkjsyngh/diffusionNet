{
 "cells": [
  {
   "cell_type": "markdown",
   "metadata": {},
   "source": [
    "## 1-D Transiet heat diffusion solver with data-based Neural Networks "
   ]
  },
  {
   "cell_type": "markdown",
   "metadata": {
    "id": "uMO76mcBWNMw"
   },
   "source": [
    "**Import the libraries**"
   ]
  },
  {
   "cell_type": "code",
   "execution_count": null,
   "metadata": {},
   "outputs": [],
   "source": [
    "## Import basic numerical and plotting packages ##\n",
    "from utils.importer import *\n",
    "\n",
    "## Import the numerical PDE solver ##\n",
    "from utils.numericalSolver import NumPDE\n",
    "\n",
    "## Import the neural network dataprocessor and framework ##\n",
    "from utils.dataNN import DataPreprocessor, DataBasedNN"
   ]
  },
  {
   "cell_type": "markdown",
   "metadata": {},
   "source": [
    "**Setup the calculation details**"
   ]
  },
  {
   "cell_type": "markdown",
   "metadata": {},
   "source": [
    "The governing equation is by, "
   ]
  },
  {
   "cell_type": "markdown",
   "metadata": {},
   "source": [
    "$$\\frac{\\partial T}{\\partial t} = \\frac{\\partial^2 T}{\\partial x^2}$$  "
   ]
  },
  {
   "cell_type": "markdown",
   "metadata": {},
   "source": [
    "The domain and time range is defined as follows, "
   ]
  },
  {
   "cell_type": "markdown",
   "metadata": {},
   "source": [
    "$$\\forall \\, x \\in (0,l) \\text{ and } 0 < t < t_{range}$$"
   ]
  },
  {
   "cell_type": "markdown",
   "metadata": {},
   "source": [
    "Initial conditions are as follows,"
   ]
  },
  {
   "cell_type": "markdown",
   "metadata": {},
   "source": [
    "$$T(x, 0) = 0 $$"
   ]
  },
  {
   "cell_type": "markdown",
   "metadata": {},
   "source": [
    "Boundary conditions are defined as,"
   ]
  },
  {
   "cell_type": "markdown",
   "metadata": {},
   "source": [
    "$$ \\left.\\frac{\\partial T}{\\partial x}\\right\\vert_{(0,t)} = 0 \\text{ and } \\left. T \\right\\vert_{(l,t)} = sin(t)$$"
   ]
  },
  {
   "cell_type": "code",
   "execution_count": null,
   "metadata": {},
   "outputs": [],
   "source": [
    "## total time of simulation and length of the system ##\n",
    "trange, l = 2*np.pi, 1\n",
    "\n",
    "## Package the time and spatial domain ##\n",
    "extent = [[0, l], [0, trange]]\n",
    "\n",
    "## Specify time and space discretizations ##\n",
    "nx, nt = 256, 100\n",
    "\n",
    "## Specify the test train split based on time ##\n",
    "split = 0.7\n",
    "\n",
    "## Specify how much of available training data will be randomly picked for training ##\n",
    "frac = 0.8\n",
    "\n",
    "## Neural Network structure ##\n",
    "    ## Two inputs (x and t) and one output (temperature)\n",
    "layers = [2, 20, 20, 20, 20, 20, 20, 20, 20, 1]\n",
    "\n",
    "## Initialize the 1-D grid for the numerical solver ##\n",
    "grid = CartesianGrid([[0, l]], nx)  \n",
    "\n",
    "## Setup the initial condition of the system ##\n",
    "    ## For the current problem it is set at 0 ##\n",
    "field = ScalarField(grid, 0)        \n",
    "\n",
    "## Definition of the diffusion PDE ##\n",
    "    ## Specify diffusivity of the domain ##\n",
    "diffusivity = 0.1\n",
    "    ## Define the rhs of differential equation ##\n",
    "rhs = f\"(({diffusivity}) * laplace(c))\"\n",
    "    ## Specify the boundary conditions, first left end and then right end ##\n",
    "bc = [[{'derivative':0}, {'value_expression':'sin(t)'}]]\n",
    "    ## package thegoverning equation and boundary conditions ##\n",
    "eq = PDE({\"c\": f\"{rhs}\"}, bc=bc)"
   ]
  },
  {
   "cell_type": "markdown",
   "metadata": {},
   "source": [
    "**Obtain the numerical solution**"
   ]
  },
  {
   "cell_type": "code",
   "execution_count": null,
   "metadata": {},
   "outputs": [],
   "source": [
    "## Obtain the numerical solution ##\n",
    "    ## We use explicit RK-4 adaptive time stepping ##\n",
    "    ## Also specified the time discretization  using the variable nt ##\n",
    "if os.path.isfile('saved/numSol.pkl'):\n",
    "    with open('saved/numSol.pkl', 'rb') as file:\n",
    "        numSol = pkl.load(file)\n",
    "else:\n",
    "    numSol = NumPDE(eq, grid, field, 'Explicit', trange, trange/nt).ground_truth"
   ]
  },
  {
   "cell_type": "markdown",
   "metadata": {},
   "source": [
    "**Create the NN data from numerical solution**"
   ]
  },
  {
   "cell_type": "code",
   "execution_count": null,
   "metadata": {},
   "outputs": [],
   "source": [
    "## Prepare the dataset for training\n",
    "NNdata = DataPreprocessor(numSol, split, frac, extent)"
   ]
  },
  {
   "cell_type": "markdown",
   "metadata": {},
   "source": [
    "**Setup the NN, train and save the weights**"
   ]
  },
  {
   "cell_type": "code",
   "execution_count": null,
   "metadata": {},
   "outputs": [],
   "source": [
    "model = DataBasedNN(NNdata.data, layers)\n",
    "\n",
    "if os.path.isfile('saved/trained_parameters'):\n",
    "    model.dnn.load_state_dict(torch.load('saved/trained_parameters', map_location=torch.device('cpu')))\n",
    "else:\n",
    "    model.train()\n",
    "    torch.save(model.dnn.state_dict(), 'saved/trained_parameters')"
   ]
  },
  {
   "cell_type": "markdown",
   "metadata": {},
   "source": [
    "**Run the predictions**"
   ]
  },
  {
   "cell_type": "code",
   "execution_count": null,
   "metadata": {
    "colab": {
     "base_uri": "https://localhost:8080/",
     "height": 959
    },
    "executionInfo": {
     "elapsed": 15199,
     "status": "ok",
     "timestamp": 1694170052349,
     "user": {
      "displayName": "Pankaj Singh",
      "userId": "05536526513239216529"
     },
     "user_tz": 240
    },
    "id": "1EQgfg4LYtx3",
    "outputId": "d9077f8b-822b-4963-9a51-97eca7457160"
   },
   "outputs": [],
   "source": [
    "model.predict(NNdata, [0, 0.25, 0.50, 0.75, 0.999], split, extent)"
   ]
  }
 ],
 "metadata": {
  "colab": {
   "provenance": []
  },
  "kernelspec": {
   "display_name": "Python 3 (ipykernel)",
   "language": "python",
   "name": "python3"
  },
  "language_info": {
   "codemirror_mode": {
    "name": "ipython",
    "version": 3
   },
   "file_extension": ".py",
   "mimetype": "text/x-python",
   "name": "python",
   "nbconvert_exporter": "python",
   "pygments_lexer": "ipython3",
   "version": "3.11.5"
  }
 },
 "nbformat": 4,
 "nbformat_minor": 1
}
