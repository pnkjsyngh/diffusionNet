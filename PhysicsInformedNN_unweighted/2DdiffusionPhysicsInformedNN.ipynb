{
 "cells": [
  {
   "cell_type": "markdown",
   "metadata": {},
   "source": [
    "## 1-D Transiet heat diffusion solver with Physics Informed Neural Networks "
   ]
  },
  {
   "cell_type": "markdown",
   "metadata": {
    "id": "uMO76mcBWNMw"
   },
   "source": [
    "**Import the libraries**"
   ]
  },
  {
   "cell_type": "code",
   "execution_count": 3,
   "metadata": {},
   "outputs": [],
   "source": [
    "## Import basic numerical and plotting packages ##\n",
    "from utils.importer import *\n",
    "\n",
    "## Import the numerical PDE solver ##\n",
    "from utils.numericalSolver import NumPDE\n",
    "\n",
    "# ## Import the neural network dataprocessor and framework ##\n",
    "# from utils.dataNN import DataPreprocessor, DataBasedNN"
   ]
  },
  {
   "cell_type": "markdown",
   "metadata": {},
   "source": [
    "**Setup the calculation details**"
   ]
  },
  {
   "cell_type": "markdown",
   "metadata": {},
   "source": [
    "The governing equation is by, "
   ]
  },
  {
   "cell_type": "markdown",
   "metadata": {},
   "source": [
    "$$\\frac{\\partial T}{\\partial t} = \\frac{\\partial^2 T}{\\partial x^2}$$  "
   ]
  },
  {
   "cell_type": "markdown",
   "metadata": {},
   "source": [
    "The domain and time range is defined as follows, "
   ]
  },
  {
   "cell_type": "markdown",
   "metadata": {},
   "source": [
    "$$\\forall \\, x \\in (0,l) \\text{ and } 0 < t < t_{range}$$"
   ]
  },
  {
   "cell_type": "markdown",
   "metadata": {},
   "source": [
    "Initial conditions are as follows,"
   ]
  },
  {
   "cell_type": "markdown",
   "metadata": {},
   "source": [
    "$$T(x, 0) = 0 $$"
   ]
  },
  {
   "cell_type": "markdown",
   "metadata": {},
   "source": [
    "Boundary conditions are defined as,"
   ]
  },
  {
   "cell_type": "markdown",
   "metadata": {},
   "source": [
    "$$ \\left.\\frac{\\partial T}{\\partial x}\\right\\vert_{(0,t)} = 0 \\text{ and } \\left. T \\right\\vert_{(l,t)} = sin(t)$$"
   ]
  },
  {
   "cell_type": "code",
   "execution_count": 13,
   "metadata": {},
   "outputs": [],
   "source": [
    "## total time of simulation and length of the system ##\n",
    "trange, l = 2*np.pi, 1\n",
    "\n",
    "## Package the time and spatial domain ##\n",
    "extent = [[0, l], [0, trange]]\n",
    "\n",
    "## Specify time and space discretizations ##\n",
    "nx, nt = 16, 10\n",
    "\n",
    "## Specify the test train split based on time ##\n",
    "split = 0.7\n",
    "\n",
    "## Specify how much of available training data will be randomly picked for training in the domain, IC and BCs##\n",
    "frac = 0.8\n",
    "\n",
    "## Specify the number of random points in the domain\n",
    "N_domain = 100\n",
    "\n",
    "## Neural Network structure ##\n",
    "    ## Two inputs (x and t) and one output (temperature)\n",
    "layers = [2, 20, 20, 20, 20, 20, 20, 20, 20, 1]\n",
    "\n",
    "## Initialize the 1-D grid for the numerical solver ##\n",
    "grid = CartesianGrid([[0, l]], nx)  \n",
    "\n",
    "## Setup the initial condition of the system ##\n",
    "    ## For the current problem it is set at 0 ##\n",
    "field = ScalarField(grid, 0)        \n",
    "\n",
    "## Definition of the diffusion PDE ##\n",
    "    ## Specify diffusivity of the domain ##\n",
    "diffusivity = 0.1\n",
    "    ## Define the rhs of differential equation ##\n",
    "rhs = f\"(({diffusivity}) * laplace(c))\"\n",
    "    ## Specify the boundary conditions, first left end and then right end ##\n",
    "bc = [[{'derivative':0}, {'value_expression':'sin(t)'}]]\n",
    "    ## package thegoverning equation and boundary conditions ##\n",
    "eq = PDE({\"c\": f\"{rhs}\"}, bc=bc)"
   ]
  },
  {
   "cell_type": "markdown",
   "metadata": {},
   "source": [
    "**Obtain the numerical solution**"
   ]
  },
  {
   "cell_type": "code",
   "execution_count": 14,
   "metadata": {},
   "outputs": [],
   "source": [
    "## Obtain the numerical solution ##\n",
    "    ## We use explicit RK-4 adaptive time stepping ##\n",
    "    ## Also specified the time discretization  using the variable nt ##\n",
    "if os.path.isfile('saved/numSol.pkl'):\n",
    "    with open('saved/numSol.pkl', 'rb') as file:\n",
    "        numSol = pkl.load(file)\n",
    "else:\n",
    "    numSol = NumPDE(eq, grid, field, 'Explicit', trange, trange/nt).ground_truth"
   ]
  },
  {
   "cell_type": "markdown",
   "metadata": {},
   "source": [
    "**Create the NN data from numerical solution**"
   ]
  },
  {
   "cell_type": "code",
   "execution_count": 20,
   "metadata": {},
   "outputs": [],
   "source": [
    "from utils.importer import *\n",
    "\n",
    "\n",
    "class DataPreprocessor():\n",
    "\n",
    "    def __init__(self, \n",
    "                 sol: dict,\n",
    "                 split: float,\n",
    "                 frac: float,\n",
    "                 extent: np.ndarray,\n",
    "                 N_f: int):\n",
    "\n",
    "        ## Store the domain dimensions\n",
    "        self.extent = extent\n",
    "\n",
    "        ## Dictionary to store data\n",
    "        self.sol = sol\n",
    "        \n",
    "        ## Generate ground truth\n",
    "        self.create_ground_truth()\n",
    "\n",
    "        ## Split the dataset into test and train\n",
    "        self.test_train_split(split)\n",
    "\n",
    "        ## Randomly pick data points out of the train datasets ##\n",
    "        self.traindata = {}\n",
    "        self.create_train_dataset(frac, N_f)\n",
    "#         self.create_dataset('test', frac)\n",
    "# #         self.ax.legend(bbox_to_anchor=(0.5, 1.1), ncol=2, loc='upper center')\n",
    "\n",
    "        ## Show the plot and svae the figure\n",
    "        plt.show()\n",
    "        self.fig.savefig('results/groundtruth.png')\n",
    "        \n",
    "    ## Function to create dataset out of provided grid and function values\n",
    "    def create_train_dataset(self, frac, N_f):\n",
    "        \n",
    "        ## Extract the exact solution ##\n",
    "        data = self.rawdata['train']\n",
    "        t = data['t'].flatten()[:,None]\n",
    "        x = data['x'].flatten()[:,None]\n",
    "        u = np.real(data['u'])\n",
    "        \n",
    "        ## Specify the number of points for boundaries ##\n",
    "        N_ic = int(x.shape[0]*frac)\n",
    "        N_bc = int(t.shape[0]*frac)\n",
    "        N_d = int(u[1:,1:-1].shape[0]*frac)*int(u[1:,1:-1].shape[1]*frac)\n",
    "        \n",
    "        ## Create grid ##\n",
    "        X, T = np.meshgrid(x,t)\n",
    "        inp = np.hstack((X.flatten()[:,None], T.flatten()[:,None]))\n",
    "        out = u.flatten()[:,None]     \n",
    "        \n",
    "        ## Start picking random points ##\n",
    "            ## from initial condition\n",
    "        train_ic = {}\n",
    "        inp_ic = np.hstack((X[:1,:].T, T[:1,:].T))\n",
    "        out_ic = u[:1,:].T\n",
    "        idx_ic = np.random.choice(inp_ic.shape[0], N_ic, replace=False)\n",
    "        train_ic.update({'inp': inp_ic[idx_ic, :], \n",
    "                         'out': out_ic[idx_ic, :]})\n",
    "            ## from left boundary condition\n",
    "        train_bcl = {}\n",
    "        inp_bcl = np.hstack((X[:,:1], T[:,:1]))\n",
    "        out_bcl = u[:,:1]\n",
    "        idx_bcl = np.random.choice(inp_bcl.shape[0], N_bc, replace=False)\n",
    "        train_bcl.update({'inp': inp_bcl[idx_bcl, :], \n",
    "                          'out': out_bcl[idx_bcl, :]})\n",
    "            ## from right boundary condition\n",
    "        train_bcr = {}\n",
    "        inp_bcr = np.hstack((X[:,-1:], T[:,-1:]))\n",
    "        out_bcr = u[:,-1:]\n",
    "        idx_bcr = np.random.choice(inp_bcr.shape[0], N_bc, replace=False)\n",
    "        train_bcr.update({'inp': inp_bcr[idx_bcr, :], \n",
    "                          'out': out_bcr[idx_bcr, :]})\n",
    "            ## from the domain\n",
    "        train_dom = {}\n",
    "        inp_dom = np.hstack((X[1:,1:-1].flatten()[:, None],\n",
    "                             T[1:,1:-1].flatten()[:, None]))\n",
    "        out_dom = u[1:,1:-1].flatten()[:,None]\n",
    "        idx_dom = np.random.choice(inp_dom.shape[0], N_d, replace=False)\n",
    "        train_dom.update({'inp': inp_dom[idx_dom, :], \n",
    "                          'out': out_dom[idx_dom, :]})\n",
    "            ## from the PDE\n",
    "        train_pde = {}\n",
    "        lb = inp.min(0)\n",
    "        ub = inp.max(0) \n",
    "        inp_pde = lb + (ub-lb)*lhs(2, N_f)\n",
    "        train_pde.update({'inp': inp_pde})\n",
    "            ## Package all the dictionaries into traindata\n",
    "        self.traindata.update({'ic': train_ic, 'bcl': train_bcl, \n",
    "                               'bcr': train_bcr, 'dom': train_dom,\n",
    "                               'pde': train_pde})\n",
    "        \n",
    "    ## Function to split the incoming dataset into test and train based on time\n",
    "    def test_train_split(self, split):\n",
    "\n",
    "        ## Define the index to split the dataset        \n",
    "        nt = self.sol['t'].shape[0]\n",
    "        idx_split = int(nt*split)\n",
    "\n",
    "        ## store the test and train splits into dictionaries\n",
    "        test = {}\n",
    "        train = {}\n",
    "\n",
    "        ## store time in test and train\n",
    "        train['t'] = self.sol['t'][:idx_split]\n",
    "        test['t'] = self.sol['t'][idx_split:]\n",
    "\n",
    "        ## store time in test and train\n",
    "        nx = self.sol['x'].shape[0]\n",
    "        train['x'] = self.sol['x']\n",
    "        test['x'] = self.sol['x']\n",
    "\n",
    "        ## store solution in test and train\n",
    "        train['u'] = self.sol['u'][:idx_split,:]\n",
    "        test['u'] = self.sol['u'][idx_split:,:]\n",
    "\n",
    "        ## Store the final splits into dictionary\n",
    "        self.rawdata = {'train': train,\n",
    "                        'test' : test}\n",
    "        \n",
    "        ## Plot the test train partition\n",
    "        t_split = self.sol['t'][idx_split]\n",
    "        x_test = self.sol['x'][int(0.4*nx)]\n",
    "        x_train = self.sol['x'][int(0.6*nx)]\n",
    "        self.ax.plot(self.sol['x'], t_split*np.ones((nx,1)), 'g--')\n",
    "        self.ax.arrow(x_test, t_split, 0, 0.5, width=0.02, facecolor='r', alpha=1)\n",
    "        self.ax.arrow(x_train, t_split, 0, -0.5, width=0.02, facecolor='k', alpha=1)\n",
    "        self.ax.annotate('Test', xy=(x_test-0.05, t_split+0.7), fontsize=12, color = 'r')\n",
    "        self.ax.annotate('Train', xy=(x_train-0.05, t_split-0.8), fontsize=12, color = 'k')\n",
    "\n",
    "\n",
    "    ## Function to create the ground truth over the domain from the numerical solver data\n",
    "    def create_ground_truth(self):\n",
    "\n",
    "        ## Exctract the data\n",
    "        t = self.sol['t'].flatten()[:,None]\n",
    "        x = self.sol['x'].flatten()[:,None]\n",
    "        u = np.real(self.sol['u'])\n",
    "\n",
    "        ## Create grid\n",
    "        X, T = np.meshgrid(x,t)\n",
    "\n",
    "        ## Compile the flattened grid and function values\n",
    "        inp = np.hstack((X.flatten()[:,None], T.flatten()[:,None]))\n",
    "        out = u.flatten()[:,None]\n",
    "\n",
    "        ## Store the data\n",
    "        self.ground_truth = {'input': inp,\n",
    "                             'output': out}\n",
    "        \n",
    "        ## Plot the ground truth\n",
    "        fig, ax = plt.subplots(figsize=(6,5))\n",
    "        im = ax.imshow(self.sol['u'], origin='lower', aspect='auto',\n",
    "                       extent=np.asarray(self.extent).flatten(),\n",
    "                       interpolation='bilinear', cmap='rainbow')\n",
    "        fig.colorbar(im, ax=ax, location='right')\n",
    "\n",
    "        ## Save the figure object\n",
    "        self.ax = ax\n",
    "        self.fig = fig\n",
    "\n",
    "    \n",
    "\n",
    "\n",
    "    ## Function to create dataset out of provided grid and function values\n",
    "    def create_dataset(self, which, frac):\n",
    "\n",
    "        if which == 'train':\n",
    "            data = self.rawdata['train']\n",
    "            color='k'\n",
    "        else:\n",
    "            data = self.rawdata['test']\n",
    "            color='r'\n",
    "        ## Exctract the data\n",
    "        t = data['t'].flatten()[:,None]\n",
    "        x = data['x'].flatten()[:,None]\n",
    "        u = np.real(data['u'])\n",
    "\n",
    "        ## Create grid\n",
    "        X, T = np.meshgrid(x,t)\n",
    "\n",
    "        ## Compile the flattened grid and function values\n",
    "        inp = np.hstack((X.flatten()[:,None], T.flatten()[:,None]))\n",
    "        out = u.flatten()[:,None]\n",
    "\n",
    "        ## Collect datapoints on the boundaries\n",
    "            ## initial condition\n",
    "        if which == 'train':\n",
    "            inp_ic = np.hstack((X[:1,:].T, T[:1,:].T))\n",
    "            out_ic = u[:1,:].T\n",
    "        else:\n",
    "            inp_ic = np.empty((0,2))\n",
    "            out_ic = np.empty((0,1))\n",
    "            ## boundary condition on left side of the domain\n",
    "        inp_bcl = np.hstack((X[:,:1], T[:,:1]))\n",
    "        out_bcl = u[:,:1]\n",
    "            ## boundary condition on right side of the domain\n",
    "        inp_bcr = np.hstack((X[:,-1:], T[:,-1:]))\n",
    "        out_bcr = u[:,-1:]\n",
    "            ## Append all the boundary data with the function value\n",
    "        inp_all_bdr = np.vstack([inp_ic, inp_bcl, inp_bcr])\n",
    "        out_all_bdr = np.vstack([out_ic, out_bcl, out_bcr])\n",
    "            ## randomly pick points on the boundaries\n",
    "        idx_bdr = np.random.choice(out_all_bdr.shape[0],\n",
    "                                   int(frac*out_all_bdr.shape[0]),\n",
    "                                   replace=False)\n",
    "        inp_bdr = inp_all_bdr[idx_bdr, :]\n",
    "        out_bdr = out_all_bdr[idx_bdr, :]\n",
    "            ## Show the boundary points\n",
    "#         self.ax.scatter(inp_bdr[:,0], inp_bdr[:,1], marker='x',\n",
    "#                         c = color, s=15, clip_on=False, alpha=0.8,\n",
    "#                         linewidth=1, label=which)\n",
    "\n",
    "        ## Collect datapoint in the domain\n",
    "        if which == 'train':\n",
    "            inp_all_dom = np.hstack((X[1:,1:-1].flatten()[:, None],\n",
    "                                     T[1:,1:-1].flatten()[:, None]))\n",
    "            out_all_dom = u[1:,1:-1].flatten()[:,None]\n",
    "        else:\n",
    "            inp_all_dom = np.hstack((X[:,1:-1].flatten()[:, None],\n",
    "                                     T[:,1:-1].flatten()[:, None]))\n",
    "            out_all_dom = u[:,1:-1].flatten()[:,None]\n",
    "\n",
    "            ## randomly pick points on the domain\n",
    "        idx_dom = np.random.choice(out_all_dom.shape[0],\n",
    "                                   int(frac*out_all_dom.shape[0]),\n",
    "                                   replace=False)\n",
    "        inp_dom = inp_all_dom[idx_dom, :]\n",
    "        out_dom = out_all_dom[idx_dom, :]\n",
    "            ## Show the domain points\n",
    "        # self.ax.scatter(inp_dom[:,0], inp_dom[:,1], marker='o',\n",
    "        #                 edgecolors=color, facecolors='none', s=15,\n",
    "        #                 clip_on=False)\n",
    "\n",
    "        ## Store the dataset\n",
    "        self.data[which] = {'input': np.vstack((inp_bdr, inp_dom)),\n",
    "                            'output': np.vstack((out_bdr, out_dom))}"
   ]
  },
  {
   "cell_type": "code",
   "execution_count": 21,
   "metadata": {},
   "outputs": [
    {
     "data": {
      "image/png": "[encoded data removed]",
      "text/plain": [
       "<Figure size 600x500 with 2 Axes>"
      ]
     },
     "metadata": {},
     "output_type": "display_data"
    }
   ],
   "source": [
    "## Prepare the dataset for training\n",
    "NNdata = DataPreprocessor(numSol, split, frac, extent, N_domain)"
   ]
  },
  {
   "cell_type": "markdown",
   "metadata": {},
   "source": [
    "**Setup the NN, train and save the weights**"
   ]
  },
  {
   "cell_type": "code",
   "execution_count": null,
   "metadata": {},
   "outputs": [],
   "source": [
    "model = DataBasedNN(NNdata.data, layers)\n",
    "\n",
    "if os.path.isfile('saved/trained_parameters'):\n",
    "    model.dnn.load_state_dict(torch.load('saved/trained_parameters', map_location=torch.device('cpu')))\n",
    "else:\n",
    "    model.train()\n",
    "    torch.save(model.dnn.state_dict(), 'saved/trained_parameters')"
   ]
  },
  {
   "cell_type": "markdown",
   "metadata": {},
   "source": [
    "**Run the predictions**"
   ]
  },
  {
   "cell_type": "code",
   "execution_count": null,
   "metadata": {
    "colab": {
     "base_uri": "https://localhost:8080/",
     "height": 959
    },
    "executionInfo": {
     "elapsed": 15199,
     "status": "ok",
     "timestamp": 1694170052349,
     "user": {
      "displayName": "Pankaj Singh",
      "userId": "05536526513239216529"
     },
     "user_tz": 240
    },
    "id": "1EQgfg4LYtx3",
    "outputId": "d9077f8b-822b-4963-9a51-97eca7457160",
    "scrolled": false
   },
   "outputs": [],
   "source": [
    "model.predict(NNdata, [0, 0.25, 0.50, 0.75, 0.999], split, extent)"
   ]
  }
 ],
 "metadata": {
  "colab": {
   "provenance": []
  },
  "kernelspec": {
   "display_name": "Python 3 (ipykernel)",
   "language": "python",
   "name": "python3"
  },
  "language_info": {
   "codemirror_mode": {
    "name": "ipython",
    "version": 3
   },
   "file_extension": ".py",
   "mimetype": "text/x-python",
   "name": "python",
   "nbconvert_exporter": "python",
   "pygments_lexer": "ipython3",
   "version": "3.11.5"
  }
 },
 "nbformat": 4,
 "nbformat_minor": 1
}
