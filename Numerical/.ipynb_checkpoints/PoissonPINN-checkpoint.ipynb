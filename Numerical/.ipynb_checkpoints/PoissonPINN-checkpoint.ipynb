{
 "cells": [
  {
   "cell_type": "code",
   "execution_count": null,
   "metadata": {
    "executionInfo": {
     "elapsed": 389,
     "status": "ok",
     "timestamp": 1693348560823,
     "user": {
      "displayName": "Pankaj Singh",
      "userId": "05536526513239216529"
     },
     "user_tz": 240
    },
    "id": "z9sUJwEKjZ2d"
   },
   "outputs": [],
   "source": [
    "## Import the packages ##\n",
    "import os\n",
    "import numpy as np\n",
    "\n",
    "# ## Make sure change this on your end ##\n",
    "# os.chdir('/content/drive/MyDrive/Colab Notebooks/PINNs/Poisson')\n",
    "# ## --------------------------------- ##\n",
    "\n",
    "from utils.poissonsolver import PoissonSolver"
   ]
  },
  {
   "cell_type": "code",
   "execution_count": null,
   "metadata": {},
   "outputs": [],
   "source": [
    "## Define the edge of the square geometry ##\n",
    "l = 2*np.pi\n",
    "\n",
    "## Number of divisions along both edges ##\n",
    "n_num = 128 # for numerical solver\n",
    "n_pinn = 8 # for PINN solver\n",
    "\n",
    "## Field function for the poisson equation ##\n",
    "f_str = 'cos(y)'\n"
   ]
  },
  {
   "cell_type": "code",
   "execution_count": null,
   "metadata": {},
   "outputs": [],
   "source": [
    "# from pde import CartesianGrid, solve_poisson_equation, ScalarField\n",
    "\n",
    "# ## Initiate the class Poisson Solver ##\n",
    "# class PoissonSolver():\n",
    "\n",
    "#     def __init__(self,\n",
    "#                  field_str: str,\n",
    "#                  edge_length: float,\n",
    "#                  ndiv: int,\n",
    "#                  bcs: np.ndarray):\n",
    "#         ## Store the metadata ##\n",
    "#         self.metadata = {'field_str': field_str,\n",
    "#                          'edge_length': edge_length,\n",
    "#                          'ndiv': ndiv,\n",
    "#                          'bcs': bcs}\n",
    "        \n",
    "#         ## Generate Grid ##\n",
    "#         self.grid = CartesianGrid([[0, edge_length]] * 2, ndiv)\n",
    "\n",
    "#         ## Generate field ##\n",
    "#         self.field = ScalarField.from_expression(self.grid, field_str)\n",
    "\n",
    "#         ## Assign boundary conditions ##\n",
    "#         self.bc = bcs\n",
    "    \n",
    "#     ## Solve the PDE\n",
    "#     def solve(self):\n",
    "\n",
    "#         ## Solve the Poisson Equation ##\n",
    "#         self.result = solve_poisson_equation(self.field, self.bc)\n",
    "    \n",
    "#     ## Get the value of solution at random points\n",
    "#     def get_val_random_points(self, n):\n",
    "        \n",
    "#         ## Check if solution is generated or not ##\n",
    "#         if ~hasattr(self,'result'):\n",
    "#             self.solve()\n",
    "            \n",
    "#         ## Make an empty array to store random points and the value at those points ##\n",
    "#         data = np.zeros(shape = (n,3))\n",
    "        \n",
    "#         ## Run over the interator to get the coordinates ##\n",
    "#         for i in np.arange(n):\n",
    "#             data[i, :2] = self.grid.get_random_point(boundary_distance = self.metadata['edge_length']*0.05)\n",
    "#             data[i,-1] = self.result.interpolate(data[i, :2])\n",
    "        \n",
    "#         return data           \n",
    "    \n",
    "#     ## Get data along a slice ##\n",
    "#     def get_val_slice(self, axis, location):\n",
    "        \n",
    "#         ## Extract slice data ##\n",
    "#         slice_data = self.result.slice({axis: location})\n",
    "        \n",
    "#         ## Assign an array to store x,y and scalar value ##\n",
    "#         data = np.zeros(shape = (self.metadata['ndiv'],3))\n",
    "        \n",
    "#         ## Fill the coordinates of the slice ##\n",
    "#         if axis == 'x':\n",
    "#             data[:,0] = np.ones(self.metadata['ndiv'])*location\n",
    "#             print(slice_data.grid._axes_coords[0])\n",
    "#             data[:,1] = slice_data.grid._axes_coords[0]\n",
    "#         else:\n",
    "#             data[:,0] = slice_data.grid._axes_coords[0]\n",
    "#             data[:,1] = np.ones(self.metadata['ndiv'])*location\n",
    "        \n",
    "#         ## store the extracted field values in the array as well ##\n",
    "#         data[:,2] = slice_data.data\n",
    "        \n",
    "#         return data"
   ]
  },
  {
   "cell_type": "code",
   "execution_count": null,
   "metadata": {
    "colab": {
     "base_uri": "https://localhost:8080/",
     "height": 489
    },
    "executionInfo": {
     "elapsed": 2747,
     "status": "ok",
     "timestamp": 1693348565712,
     "user": {
      "displayName": "Pankaj Singh",
      "userId": "05536526513239216529"
     },
     "user_tz": 240
    },
    "id": "SwgBCLWqWDU4",
    "outputId": "d5d39a78-fb56-40a5-8c20-566c350d6b87"
   },
   "outputs": [],
   "source": [
    "## generate the numerical solution ##\n",
    "numerical_sol = PoissonSolver(f_str, l, n_num,\n",
    "                    [[{'value':0}, {'value':1}],\n",
    "                     [{'derivative':0}, {'derivative':0}]])\n",
    "numerical_sol.solve()\n",
    "\n",
    "## Get values at random coordinates on the grid ## \n",
    "get_sol_rand_coords = numerical_sol.get_val_random_points(100)\n",
    "\n",
    "## Get values at cut slices ##\n",
    "get_slice_data = numerical_sol.get_val_slice('y',np.pi)"
   ]
  },
  {
   "cell_type": "code",
   "execution_count": null,
   "metadata": {},
   "outputs": [],
   "source": [
    "get_slice_data"
   ]
  },
  {
   "cell_type": "code",
   "execution_count": null,
   "metadata": {},
   "outputs": [],
   "source": []
  },
  {
   "cell_type": "code",
   "execution_count": null,
   "metadata": {},
   "outputs": [],
   "source": []
  }
 ],
 "metadata": {
  "colab": {
   "authorship_tag": "ABX9TyNzsraF0WCfstrakPMna3ta",
   "mount_file_id": "1sFL5LzKWMH32Lw3ZY0PaYxiLCHIbbU-t",
   "provenance": []
  },
  "kernelspec": {
   "display_name": "Python 3 (ipykernel)",
   "language": "python",
   "name": "python3"
  },
  "language_info": {
   "codemirror_mode": {
    "name": "ipython",
    "version": 3
   },
   "file_extension": ".py",
   "mimetype": "text/x-python",
   "name": "python",
   "nbconvert_exporter": "python",
   "pygments_lexer": "ipython3",
   "version": "3.10.12"
  }
 },
 "nbformat": 4,
 "nbformat_minor": 1
}
