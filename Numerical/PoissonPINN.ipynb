{
 "cells": [
  {
   "cell_type": "code",
   "execution_count": 1,
   "metadata": {
    "executionInfo": {
     "elapsed": 389,
     "status": "ok",
     "timestamp": 1693348560823,
     "user": {
      "displayName": "Pankaj Singh",
      "userId": "05536526513239216529"
     },
     "user_tz": 240
    },
    "id": "z9sUJwEKjZ2d"
   },
   "outputs": [],
   "source": [
    "## Import the packages ##\n",
    "import os\n",
    "import numpy as np\n",
    "\n",
    "# ## Make sure change this on your end ##\n",
    "# os.chdir('/content/drive/MyDrive/Colab Notebooks/PINNs/Poisson')\n",
    "# ## --------------------------------- ##\n",
    "\n",
    "from utils.poissonsolver import PoissonSolver"
   ]
  },
  {
   "cell_type": "code",
   "execution_count": 2,
   "metadata": {},
   "outputs": [],
   "source": [
    "## Define the edge of the square geometry ##\n",
    "l = 2*np.pi\n",
    "\n",
    "## Number of divisions along both edges ##\n",
    "n_num = 128 # for numerical solver\n",
    "n_pinn = 8 # for PINN solver\n",
    "\n",
    "## Field function for the poisson equation ##\n",
    "f_str = 'cos(y)'\n"
   ]
  },
  {
   "cell_type": "code",
   "execution_count": 3,
   "metadata": {
    "colab": {
     "base_uri": "https://localhost:8080/",
     "height": 489
    },
    "executionInfo": {
     "elapsed": 2747,
     "status": "ok",
     "timestamp": 1693348565712,
     "user": {
      "displayName": "Pankaj Singh",
      "userId": "05536526513239216529"
     },
     "user_tz": 240
    },
    "id": "SwgBCLWqWDU4",
    "outputId": "d5d39a78-fb56-40a5-8c20-566c350d6b87"
   },
   "outputs": [],
   "source": [
    "## generate the numerical solution ##\n",
    "numerical_sol = PoissonSolver(f_str, l, n_num,\n",
    "                    [[{'value':0}, {'value':1}],\n",
    "                     [{'derivative':0}, {'derivative':0}]])\n",
    "numerical_sol.solve()\n",
    "\n",
    "## Get values at random coordinates on the grid ## \n",
    "get_sol_rand_points = numerical_sol.get_val_random_points(100)\n",
    "\n",
    "## Get values at cut slices ##\n",
    "get_sol_slice = numerical_sol.get_val_slice('y',np.pi)"
   ]
  },
  {
   "cell_type": "code",
   "execution_count": null,
   "metadata": {},
   "outputs": [],
   "source": []
  },
  {
   "cell_type": "code",
   "execution_count": null,
   "metadata": {},
   "outputs": [],
   "source": []
  }
 ],
 "metadata": {
  "colab": {
   "authorship_tag": "ABX9TyNzsraF0WCfstrakPMna3ta",
   "mount_file_id": "1sFL5LzKWMH32Lw3ZY0PaYxiLCHIbbU-t",
   "provenance": []
  },
  "kernelspec": {
   "display_name": "Python 3 (ipykernel)",
   "language": "python",
   "name": "python3"
  },
  "language_info": {
   "codemirror_mode": {
    "name": "ipython",
    "version": 3
   },
   "file_extension": ".py",
   "mimetype": "text/x-python",
   "name": "python",
   "nbconvert_exporter": "python",
   "pygments_lexer": "ipython3",
   "version": "3.10.12"
  }
 },
 "nbformat": 4,
 "nbformat_minor": 1
}
